{
 "cells": [
  {
   "cell_type": "code",
   "execution_count": 3,
   "metadata": {},
   "outputs": [],
   "source": [
    "import pandas as pd\n",
    "from lib.cusum import most_change_against_window\n",
    "from ebmdatalab import bq "
   ]
  },
  {
   "cell_type": "code",
   "execution_count": 4,
   "metadata": {},
   "outputs": [],
   "source": [
    "sql = \"\"\"\n",
    "SELECT\n",
    "  pct_id,\n",
    "  percentile\n",
    "FROM measures.ccg_data_opioidper1000\n",
    "\"\"\"\n",
    "df = bq.cached_read(sql, csv_path='../data/ccg_percentiles.zip')"
   ]
  },
  {
   "cell_type": "code",
   "execution_count": 5,
   "metadata": {},
   "outputs": [
    {
     "name": "stdout",
     "output_type": "stream",
     "text": [
      "06Q [{'from': 0.47938596491228075, 'to': 0.4052631578947368, 'period': 1}]\n",
      "09H [{'from': 0.26228070175438595, 'to': 0.21578947368421053, 'period': 1}]\n"
     ]
    },
    {
     "name": "stderr",
     "output_type": "stream",
     "text": [
      "/home/app/notebook/lib/cusum.py:175: RuntimeWarning: Mean of empty slice\n",
      "  self.target_means.append(np.nanmean(window))\n",
      "/home/app/.pyenv/versions/3.8.1/lib/python3.8/site-packages/numpy/lib/nanfunctions.py:1666: RuntimeWarning: Degrees of freedom <= 0 for slice.\n",
      "  var = nanvar(a, axis=axis, dtype=dtype, out=out, ddof=ddof,\n"
     ]
    }
   ],
   "source": [
    "for pct_id, grouped in df.groupby(\"pct_id\"):\n",
    "    changes = most_change_against_window(grouped.percentile, window=12)\n",
    "    if changes['improvements']:\n",
    "        print(pct_id, changes['improvements'])"
   ]
  },
  {
   "cell_type": "code",
   "execution_count": 6,
   "metadata": {},
   "outputs": [
    {
     "name": "stderr",
     "output_type": "stream",
     "text": [
      "Downloading: 100%|██████████| 492240/492240 [00:18<00:00, 26499.69rows/s]\n"
     ]
    }
   ],
   "source": [
    "sql = \"\"\"\n",
    "SELECT\n",
    "  practice_id,\n",
    "  percentile\n",
    "FROM measures.practice_data_opioidper1000\n",
    "\"\"\"\n",
    "df2 = bq.cached_read(sql, csv_path='../data/practice_percentiles.zip')"
   ]
  },
  {
   "cell_type": "code",
   "execution_count": 7,
   "metadata": {},
   "outputs": [],
   "source": [
    "practice_df = pd.DataFrame(columns=[\"practice_id\", \"from\", \"to\", \"period\"])\n",
    "for practice_id, grouped in df2.groupby(\"practice_id\"):\n",
    "    changes = most_change_against_window(grouped.percentile, window=24)\n",
    "    improvements = changes['improvements'] and changes['improvements'][0] or {}\n",
    "    if improvements.get(\"to\", 0) > 0:\n",
    "        practice_df = practice_df.append([{ 'practice_id': practice_id, 'from': improvements[\"from\"], 'to': improvements[\"to\"], 'period': improvements[\"period\"]}])"
   ]
  },
  {
   "cell_type": "code",
   "execution_count": 8,
   "metadata": {},
   "outputs": [
    {
     "data": {
      "text/html": [
       "<div>\n",
       "<style scoped>\n",
       "    .dataframe tbody tr th:only-of-type {\n",
       "        vertical-align: middle;\n",
       "    }\n",
       "\n",
       "    .dataframe tbody tr th {\n",
       "        vertical-align: top;\n",
       "    }\n",
       "\n",
       "    .dataframe thead th {\n",
       "        text-align: right;\n",
       "    }\n",
       "</style>\n",
       "<table border=\"1\" class=\"dataframe\">\n",
       "  <thead>\n",
       "    <tr style=\"text-align: right;\">\n",
       "      <th></th>\n",
       "      <th>practice_id</th>\n",
       "      <th>from</th>\n",
       "      <th>to</th>\n",
       "      <th>period</th>\n",
       "      <th>delta</th>\n",
       "    </tr>\n",
       "  </thead>\n",
       "  <tbody>\n",
       "    <tr>\n",
       "      <th>0</th>\n",
       "      <td>Y02520</td>\n",
       "      <td>0.549396</td>\n",
       "      <td>0.291758</td>\n",
       "      <td>2</td>\n",
       "      <td>0.257638</td>\n",
       "    </tr>\n",
       "    <tr>\n",
       "      <th>0</th>\n",
       "      <td>D83615</td>\n",
       "      <td>0.824151</td>\n",
       "      <td>0.600787</td>\n",
       "      <td>2</td>\n",
       "      <td>0.223364</td>\n",
       "    </tr>\n",
       "    <tr>\n",
       "      <th>0</th>\n",
       "      <td>K81651</td>\n",
       "      <td>0.459473</td>\n",
       "      <td>0.268726</td>\n",
       "      <td>4</td>\n",
       "      <td>0.190747</td>\n",
       "    </tr>\n",
       "    <tr>\n",
       "      <th>0</th>\n",
       "      <td>B86050</td>\n",
       "      <td>0.759836</td>\n",
       "      <td>0.666160</td>\n",
       "      <td>2</td>\n",
       "      <td>0.093676</td>\n",
       "    </tr>\n",
       "    <tr>\n",
       "      <th>0</th>\n",
       "      <td>P87026</td>\n",
       "      <td>0.792776</td>\n",
       "      <td>0.704068</td>\n",
       "      <td>2</td>\n",
       "      <td>0.088708</td>\n",
       "    </tr>\n",
       "    <tr>\n",
       "      <th>0</th>\n",
       "      <td>L81120</td>\n",
       "      <td>0.712973</td>\n",
       "      <td>0.637741</td>\n",
       "      <td>2</td>\n",
       "      <td>0.075231</td>\n",
       "    </tr>\n",
       "    <tr>\n",
       "      <th>0</th>\n",
       "      <td>P86602</td>\n",
       "      <td>0.865327</td>\n",
       "      <td>0.801982</td>\n",
       "      <td>3</td>\n",
       "      <td>0.063345</td>\n",
       "    </tr>\n",
       "    <tr>\n",
       "      <th>0</th>\n",
       "      <td>A89004</td>\n",
       "      <td>0.930529</td>\n",
       "      <td>0.905139</td>\n",
       "      <td>2</td>\n",
       "      <td>0.025389</td>\n",
       "    </tr>\n",
       "  </tbody>\n",
       "</table>\n",
       "</div>"
      ],
      "text/plain": [
       "  practice_id      from        to period     delta\n",
       "0      Y02520  0.549396  0.291758      2  0.257638\n",
       "0      D83615  0.824151  0.600787      2  0.223364\n",
       "0      K81651  0.459473  0.268726      4  0.190747\n",
       "0      B86050  0.759836  0.666160      2  0.093676\n",
       "0      P87026  0.792776  0.704068      2  0.088708\n",
       "0      L81120  0.712973  0.637741      2  0.075231\n",
       "0      P86602  0.865327  0.801982      3  0.063345\n",
       "0      A89004  0.930529  0.905139      2  0.025389"
      ]
     },
     "execution_count": 8,
     "metadata": {},
     "output_type": "execute_result"
    }
   ],
   "source": [
    "#https://openprescribing.net/measure/opioidper1000/practice/{}/\"\n",
    "practice_df['delta'] = practice_df[\"from\"] - practice_df[\"to\"]\n",
    "practice_df = practice_df.sort_values(\"delta\", ascending=False)\n",
    "practice_df[practice_df.period > 1]"
   ]
  }
 ],
 "metadata": {
  "jupytext": {
   "cell_metadata_filter": "all",
   "notebook_metadata_filter": "all,-language_info",
   "text_representation": {
    "extension": ".py",
    "format_name": "light",
    "format_version": "1.5",
    "jupytext_version": "1.3.2"
   }
  },
  "kernelspec": {
   "display_name": "Python 3",
   "language": "python",
   "name": "python3"
  },
  "language_info": {
   "codemirror_mode": {
    "name": "ipython",
    "version": 3
   },
   "file_extension": ".py",
   "mimetype": "text/x-python",
   "name": "python",
   "nbconvert_exporter": "python",
   "pygments_lexer": "ipython3",
   "version": "3.8.1"
  }
 },
 "nbformat": 4,
 "nbformat_minor": 4
}
